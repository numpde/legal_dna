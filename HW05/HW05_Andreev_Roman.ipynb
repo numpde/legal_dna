{
 "cells": [
  {
   "cell_type": "markdown",
   "metadata": {},
   "source": [
    "# HW05: Deep Learning\n",
    "\n",
    "Remember that these homework work as a completion grade. **You can skip one section without losing credit.**"
   ]
  },
  {
   "cell_type": "code",
   "execution_count": 438,
   "metadata": {},
   "outputs": [],
   "source": [
    "import tensorflow as tf\n",
    "import tensorflow_addons as tfa\n",
    "\n",
    "import pandas as pd\n",
    "import numpy as np"
   ]
  },
  {
   "cell_type": "code",
   "execution_count": 7,
   "metadata": {},
   "outputs": [
    {
     "output_type": "execute_result",
     "data": {
      "text/plain": [
       "      label                                              title  \\\n",
       "0  business  Wall St. Bears Claw Back Into the Black (Reuters)   \n",
       "1  business  Carlyle Looks Toward Commercial Aerospace (Reu...   \n",
       "2  business    Oil and Economy Cloud Stocks' Outlook (Reuters)   \n",
       "3  business  Iraq Halts Oil Exports from Main Southern Pipe...   \n",
       "4  business  Oil prices soar to all-time record, posing new...   \n",
       "\n",
       "                                                lead  \\\n",
       "0  Reuters - Short-sellers, Wall Street's dwindli...   \n",
       "1  Reuters - Private investment firm Carlyle Grou...   \n",
       "2  Reuters - Soaring crude prices plus worries\\ab...   \n",
       "3  Reuters - Authorities have halted oil export\\f...   \n",
       "4  AFP - Tearaway world oil prices, toppling reco...   \n",
       "\n",
       "                                                text  \n",
       "0  Wall St. Bears Claw Back Into the Black (Reute...  \n",
       "1  Carlyle Looks Toward Commercial Aerospace (Reu...  \n",
       "2  Oil and Economy Cloud Stocks' Outlook (Reuters...  \n",
       "3  Iraq Halts Oil Exports from Main Southern Pipe...  \n",
       "4  Oil prices soar to all-time record, posing new...  "
      ],
      "text/html": "<div>\n<style scoped>\n    .dataframe tbody tr th:only-of-type {\n        vertical-align: middle;\n    }\n\n    .dataframe tbody tr th {\n        vertical-align: top;\n    }\n\n    .dataframe thead th {\n        text-align: right;\n    }\n</style>\n<table border=\"1\" class=\"dataframe\">\n  <thead>\n    <tr style=\"text-align: right;\">\n      <th></th>\n      <th>label</th>\n      <th>title</th>\n      <th>lead</th>\n      <th>text</th>\n    </tr>\n  </thead>\n  <tbody>\n    <tr>\n      <th>0</th>\n      <td>business</td>\n      <td>Wall St. Bears Claw Back Into the Black (Reuters)</td>\n      <td>Reuters - Short-sellers, Wall Street's dwindli...</td>\n      <td>Wall St. Bears Claw Back Into the Black (Reute...</td>\n    </tr>\n    <tr>\n      <th>1</th>\n      <td>business</td>\n      <td>Carlyle Looks Toward Commercial Aerospace (Reu...</td>\n      <td>Reuters - Private investment firm Carlyle Grou...</td>\n      <td>Carlyle Looks Toward Commercial Aerospace (Reu...</td>\n    </tr>\n    <tr>\n      <th>2</th>\n      <td>business</td>\n      <td>Oil and Economy Cloud Stocks' Outlook (Reuters)</td>\n      <td>Reuters - Soaring crude prices plus worries\\ab...</td>\n      <td>Oil and Economy Cloud Stocks' Outlook (Reuters...</td>\n    </tr>\n    <tr>\n      <th>3</th>\n      <td>business</td>\n      <td>Iraq Halts Oil Exports from Main Southern Pipe...</td>\n      <td>Reuters - Authorities have halted oil export\\f...</td>\n      <td>Iraq Halts Oil Exports from Main Southern Pipe...</td>\n    </tr>\n    <tr>\n      <th>4</th>\n      <td>business</td>\n      <td>Oil prices soar to all-time record, posing new...</td>\n      <td>AFP - Tearaway world oil prices, toppling reco...</td>\n      <td>Oil prices soar to all-time record, posing new...</td>\n    </tr>\n  </tbody>\n</table>\n</div>"
     },
     "metadata": {},
     "execution_count": 7
    }
   ],
   "source": [
    "#Import the AG news dataset (same as hw01)\n",
    "#Download them from here \n",
    "#!wget https://raw.githubusercontent.com/mhjabreel/CharCnn_Keras/master/data/ag_news_csv/train.csv\n",
    "\n",
    "import nltk\n",
    "df = pd.read_csv('train.zip', names=[\"label\", \"title\", \"lead\"]).assign(text=\"\")\n",
    "df.label = df.label.map({1: \"world\", 2: \"sport\", 3: \"business\", 4: \"sci/tech\"}) \n",
    "df.text = (df.title + \" \" + df.lead).str.replace(\"\\\\\", \" \", regex=False)\n",
    "df.head()"
   ]
  },
  {
   "cell_type": "code",
   "execution_count": 8,
   "metadata": {},
   "outputs": [
    {
     "output_type": "stream",
     "name": "stdout",
     "text": [
      "Fraction of 'business' texts: 0.25\n"
     ]
    }
   ],
   "source": [
    "## create a new variable \"business\" that takes value 1 if the label is business and 0 otherwise\n",
    "df = df.assign(business=(df.label == \"business\"))\n",
    "print(\"Fraction of 'business' texts:\", df.business.mean())"
   ]
  },
  {
   "cell_type": "code",
   "execution_count": 92,
   "metadata": {},
   "outputs": [],
   "source": [
    "dfs = df.sample(axis=0, frac=0.1, random_state=43)"
   ]
  },
  {
   "cell_type": "code",
   "execution_count": 93,
   "metadata": {},
   "outputs": [],
   "source": [
    "import spacy\n",
    "nlp = spacy.load('en_core_web_sm')\n",
    "\n",
    "def tokenize(text):\n",
    "    return [w.lemma_.lower() for w in nlp(text) if not (w.is_stop or w.is_punct or w.is_digit)]\n",
    "\n",
    "dfs['tokenized'] = dfs.text.apply(tokenize)\n",
    "dfs['words'] = dfs.tokenized.apply(' '.join)"
   ]
  },
  {
   "cell_type": "code",
   "execution_count": 155,
   "metadata": {},
   "outputs": [],
   "source": [
    "from sklearn.feature_extraction.text import CountVectorizer\n",
    "cv = CountVectorizer(max_features=9999).fit(dfs.words)"
   ]
  },
  {
   "cell_type": "markdown",
   "metadata": {},
   "source": [
    "## MLP"
   ]
  },
  {
   "cell_type": "markdown",
   "metadata": {},
   "source": [
    "Your goal here is to use features from the Vectorized text to predict whether the snippet is from a business article."
   ]
  },
  {
   "cell_type": "code",
   "execution_count": 156,
   "metadata": {},
   "outputs": [],
   "source": [
    "#https://stackoverflow.com/questions/40896157/scipy-sparse-csr-matrix-to-tensorflow-sparsetensor-mini-batch-gradient-descent\n",
    "\n",
    "def as_sparse_tensor(words):\n",
    "    coo = cv.transform(words).tocoo()\n",
    "    indices = np.mat([coo.row, coo.col]).T\n",
    "    return tf.sparse.reorder(tf.SparseTensor(indices, coo.data, coo.shape))\n",
    "    #np.allclose(X.todense(), tf.sparse.to_dense(X0))"
   ]
  },
  {
   "cell_type": "code",
   "execution_count": 157,
   "metadata": {},
   "outputs": [],
   "source": [
    "# from tf.keras.models import Sequential\n",
    "# from tf.keras.layers import Dense, Dropout\n",
    "# from tf.keras.callbacks import EarlyStopping\n",
    "\n",
    "from sklearn.model_selection import train_test_split\n",
    "(dfs_train, dfs_valid) = train_test_split(dfs, test_size=0.1, random_state=43)\n"
   ]
  },
  {
   "cell_type": "code",
   "execution_count": 158,
   "metadata": {},
   "outputs": [
    {
     "output_type": "stream",
     "name": "stdout",
     "text": [
      "10800 1200\n"
     ]
    }
   ],
   "source": [
    "print(len(dfs_train), len(dfs_valid))"
   ]
  },
  {
   "cell_type": "code",
   "execution_count": 160,
   "metadata": {},
   "outputs": [
    {
     "output_type": "execute_result",
     "data": {
      "text/plain": [
       "(TensorShape([10800, 9999]), TensorShape([1200, 9999]))"
      ]
     },
     "metadata": {},
     "execution_count": 160
    }
   ],
   "source": [
    "as_sparse_tensor(dfs_train.words).shape, as_sparse_tensor(dfs_valid.words).shape"
   ]
  },
  {
   "cell_type": "code",
   "execution_count": 471,
   "metadata": {},
   "outputs": [
    {
     "output_type": "stream",
     "name": "stdout",
     "text": [
      "Epoch 1/10\n",
      "338/338 [==============================] - 1s 2ms/step - loss: 0.5903 - accuracy: 0.7330 - val_loss: 0.2929 - val_accuracy: 0.7583\n",
      "Epoch 2/10\n",
      "338/338 [==============================] - 1s 2ms/step - loss: 0.2651 - accuracy: 0.8062 - val_loss: 0.2566 - val_accuracy: 0.9250\n",
      "Epoch 3/10\n",
      "338/338 [==============================] - 1s 2ms/step - loss: 0.2044 - accuracy: 0.9610 - val_loss: 0.2367 - val_accuracy: 0.9375\n",
      "Epoch 4/10\n",
      "338/338 [==============================] - 1s 2ms/step - loss: 0.1559 - accuracy: 0.9744 - val_loss: 0.2353 - val_accuracy: 0.9350\n",
      "Epoch 5/10\n",
      "338/338 [==============================] - 1s 2ms/step - loss: 0.1291 - accuracy: 0.9803 - val_loss: 0.2355 - val_accuracy: 0.9342\n"
     ]
    },
    {
     "output_type": "execute_result",
     "data": {
      "text/plain": [
       "<tensorflow.python.keras.callbacks.History at 0x7fd221db0700>"
      ]
     },
     "metadata": {},
     "execution_count": 471
    }
   ],
   "source": [
    "model = tf.keras.Sequential([\n",
    "    tf.keras.layers.Dense(8, activation='relu'),\n",
    "    tf.keras.layers.Dense(4, activation='relu'),\n",
    "    tf.keras.layers.Dense(2, activation='relu'),\n",
    "    tf.keras.layers.Dense(1, activation='sigmoid'),\n",
    "])\n",
    "\n",
    "model.compile(\n",
    "    optimizer=tf.keras.optimizers.Adam(),\n",
    "    loss='binary_crossentropy',\n",
    "    metrics=['accuracy'],\n",
    ")\n",
    "\n",
    "X_train = as_sparse_tensor(dfs_train.words)\n",
    "y_train = tf.convert_to_tensor(dfs_train.business)\n",
    "X_valid = as_sparse_tensor(dfs_valid.words)\n",
    "y_valid = tf.convert_to_tensor(dfs_valid.business)\n",
    "model.fit(X_train, y_train, epochs=10, validation_data=(X_valid, y_valid), callbacks=[tf.keras.callbacks.EarlyStopping(patience=1, restore_best_weights=True)])"
   ]
  },
  {
   "cell_type": "code",
   "execution_count": 473,
   "metadata": {},
   "outputs": [],
   "source": [
    "from sklearn.metrics import roc_curve, auc\n",
    "(fpr_cv, tpr_cv, _) = roc_curve(dfs_valid.business, model(as_sparse_tensor(dfs_valid.words)))"
   ]
  },
  {
   "cell_type": "markdown",
   "metadata": {},
   "source": [
    "## Autoencoders"
   ]
  },
  {
   "cell_type": "code",
   "execution_count": 307,
   "metadata": {},
   "outputs": [
    {
     "output_type": "execute_result",
     "data": {
      "text/plain": [
       "<tf.Tensor: shape=(10800,), dtype=int64, numpy=array([24, 28, 27, ..., 13, 32, 25])>"
      ]
     },
     "metadata": {},
     "execution_count": 307
    }
   ],
   "source": [
    "tf.sparse.reduce_sum(X_train, axis=-1)"
   ]
  },
  {
   "cell_type": "code",
   "execution_count": 447,
   "metadata": {},
   "outputs": [
    {
     "output_type": "stream",
     "name": "stdout",
     "text": [
      "Epoch 1/20\n",
      "338/338 [==============================] - 6s 16ms/step - loss: 0.0030 - accuracy: 0.0493 - R2: 0.0182 - val_loss: 0.0028 - val_accuracy: 0.1492 - val_R2: 0.0708\n",
      "Epoch 2/20\n",
      "338/338 [==============================] - 5s 15ms/step - loss: 0.0028 - accuracy: 0.1441 - R2: 0.0803 - val_loss: 0.0027 - val_accuracy: 0.1542 - val_R2: 0.0983\n",
      "Epoch 3/20\n",
      "338/338 [==============================] - 5s 15ms/step - loss: 0.0027 - accuracy: 0.1628 - R2: 0.1046 - val_loss: 0.0027 - val_accuracy: 0.1925 - val_R2: 0.1102\n",
      "Epoch 4/20\n",
      "338/338 [==============================] - 5s 16ms/step - loss: 0.0027 - accuracy: 0.1774 - R2: 0.1197 - val_loss: 0.0027 - val_accuracy: 0.2017 - val_R2: 0.1171\n",
      "Epoch 5/20\n",
      "338/338 [==============================] - 5s 16ms/step - loss: 0.0027 - accuracy: 0.1907 - R2: 0.1310 - val_loss: 0.0027 - val_accuracy: 0.2108 - val_R2: 0.1181\n",
      "Epoch 6/20\n",
      "338/338 [==============================] - 6s 16ms/step - loss: 0.0026 - accuracy: 0.2035 - R2: 0.1398 - val_loss: 0.0027 - val_accuracy: 0.2058 - val_R2: 0.1200\n",
      "Epoch 7/20\n",
      "338/338 [==============================] - 5s 16ms/step - loss: 0.0026 - accuracy: 0.2101 - R2: 0.1461 - val_loss: 0.0027 - val_accuracy: 0.2075 - val_R2: 0.1202\n",
      "Epoch 8/20\n",
      "338/338 [==============================] - 5s 15ms/step - loss: 0.0026 - accuracy: 0.2097 - R2: 0.1517 - val_loss: 0.0026 - val_accuracy: 0.2075 - val_R2: 0.1239\n",
      "Epoch 9/20\n",
      "338/338 [==============================] - 6s 17ms/step - loss: 0.0026 - accuracy: 0.2128 - R2: 0.1563 - val_loss: 0.0027 - val_accuracy: 0.2075 - val_R2: 0.1204\n",
      "Epoch 10/20\n",
      "338/338 [==============================] - 5s 16ms/step - loss: 0.0026 - accuracy: 0.2160 - R2: 0.1591 - val_loss: 0.0026 - val_accuracy: 0.2058 - val_R2: 0.1215\n",
      "Epoch 11/20\n",
      "338/338 [==============================] - 5s 16ms/step - loss: 0.0026 - accuracy: 0.2170 - R2: 0.1609 - val_loss: 0.0026 - val_accuracy: 0.2108 - val_R2: 0.1249\n",
      "Epoch 12/20\n",
      "338/338 [==============================] - 5s 16ms/step - loss: 0.0026 - accuracy: 0.2246 - R2: 0.1639 - val_loss: 0.0027 - val_accuracy: 0.2100 - val_R2: 0.1177\n",
      "Epoch 13/20\n",
      "338/338 [==============================] - 5s 16ms/step - loss: 0.0025 - accuracy: 0.2215 - R2: 0.1667 - val_loss: 0.0026 - val_accuracy: 0.2033 - val_R2: 0.1223\n",
      "Epoch 14/20\n",
      "338/338 [==============================] - 5s 16ms/step - loss: 0.0025 - accuracy: 0.2260 - R2: 0.1679 - val_loss: 0.0026 - val_accuracy: 0.2008 - val_R2: 0.1220\n",
      "Epoch 15/20\n",
      "338/338 [==============================] - 5s 16ms/step - loss: 0.0025 - accuracy: 0.2258 - R2: 0.1700 - val_loss: 0.0027 - val_accuracy: 0.1875 - val_R2: 0.1172\n",
      "Epoch 16/20\n",
      "338/338 [==============================] - 5s 16ms/step - loss: 0.0025 - accuracy: 0.2254 - R2: 0.1730 - val_loss: 0.0027 - val_accuracy: 0.1933 - val_R2: 0.1172\n",
      "Epoch 17/20\n",
      "338/338 [==============================] - 5s 16ms/step - loss: 0.0025 - accuracy: 0.2284 - R2: 0.1750 - val_loss: 0.0027 - val_accuracy: 0.1958 - val_R2: 0.1195\n",
      "Epoch 18/20\n",
      "338/338 [==============================] - 5s 16ms/step - loss: 0.0025 - accuracy: 0.2256 - R2: 0.1765 - val_loss: 0.0026 - val_accuracy: 0.2100 - val_R2: 0.1244\n",
      "Epoch 19/20\n",
      "338/338 [==============================] - 5s 16ms/step - loss: 0.0025 - accuracy: 0.2262 - R2: 0.1788 - val_loss: 0.0026 - val_accuracy: 0.2058 - val_R2: 0.1218\n",
      "Epoch 20/20\n",
      "338/338 [==============================] - 5s 16ms/step - loss: 0.0025 - accuracy: 0.2299 - R2: 0.1796 - val_loss: 0.0026 - val_accuracy: 0.2058 - val_R2: 0.1213\n"
     ]
    },
    {
     "output_type": "execute_result",
     "data": {
      "text/plain": [
       "<tensorflow.python.keras.callbacks.History at 0x7fd23aa00d90>"
      ]
     },
     "metadata": {},
     "execution_count": 447
    }
   ],
   "source": [
    "def R2(y_true, y_pred):\n",
    "    ss_res = tf.reduce_sum((y_true - y_pred) ** 2, axis=-1) \n",
    "    ss_tot = tf.reduce_sum((y_true - tf.reduce_mean(y_true, axis=-1, keepdims=True)) ** 2, axis=-1) \n",
    "    return (1 - tf.math.divide_no_nan(ss_res, ss_tot))\n",
    "\n",
    "## build a simple autoencoder with two compression layers and two reconstruction layers using ReLu\n",
    "## compile and fit the model minimizing \"mean_squared_error\"\n",
    "## report r_squared during training (the function r2 defined above)\n",
    "\n",
    "encoder = tf.keras.Sequential([\n",
    "    tf.keras.layers.Input(shape=[len(cv.get_feature_names())]),\n",
    "    tf.keras.layers.Dense(64, activation='relu'),\n",
    "    tf.keras.layers.Dense(32, activation='relu'),\n",
    "    tf.keras.layers.Dense(32, activation='relu'),\n",
    "])\n",
    "\n",
    "decoder = tf.keras.Sequential([\n",
    "    tf.keras.layers.Dense(32, activation='relu'),\n",
    "    tf.keras.layers.Dense(64, activation='relu'),\n",
    "    tf.keras.layers.Dense(len(cv.get_feature_names()), activation='relu'),\n",
    "])\n",
    "\n",
    "model = tf.keras.Sequential([encoder, decoder])\n",
    "\n",
    "model.compile(\n",
    "    optimizer='adam',\n",
    "    loss='mean_squared_error',\n",
    "    metrics=['accuracy', R2]\n",
    "    #metrics=[R2],\n",
    ")\n",
    "\n",
    "ds_train = tf.data.Dataset.from_tensor_slices(X_train).map(tf.sparse.to_dense).map(lambda x: tf.cast(x, dtype=tf.float32))\n",
    "ds_valid = tf.data.Dataset.from_tensor_slices(X_valid).map(tf.sparse.to_dense).map(lambda x: tf.cast(x, dtype=tf.float32))\n",
    "\n",
    "model.fit(\n",
    "    x=tf.data.Dataset.zip((ds_train, ds_train)).batch(32),\n",
    "    verbose=1,\n",
    "    steps_per_epoch=None,\n",
    "    epochs=20,\n",
    "    validation_data=tf.data.Dataset.zip((ds_valid, ds_valid)).batch(32),\n",
    ")\n",
    "\n",
    "# Mean squared error appears quite small because of sparsity (and the square)\n",
    "# The R2 goes over 0.2 with some simple net architectures but not much further"
   ]
  },
  {
   "cell_type": "code",
   "execution_count": 365,
   "metadata": {},
   "outputs": [],
   "source": [
    "## compress the vectorized text (X.todense())\n",
    "\n",
    "compressed = pd.DataFrame(data=encoder(as_sparse_tensor(dfs.words)).numpy(), index=dfs.index)\n",
    "\n",
    "# For fun, let's look at similar texts\n",
    "from sklearn.neighbors import KDTree\n",
    "tree = KDTree(compressed.values, leaf_size=3)"
   ]
  },
  {
   "cell_type": "code",
   "execution_count": 362,
   "metadata": {},
   "outputs": [
    {
     "output_type": "stream",
     "name": "stdout",
     "text": [
      "### Three neighbors:\nDollar Extends Recovery Against Euro, Yen  TOKYO (Reuters) - The dollar rebounded for a second session  on Thursday as traders and investors took profits on bets  against the U.S. currency before the year draws to a close.\nDollar Inches Up  TOKYO (Reuters) - The dollar edged up against the euro on  Tuesday, expanding the previous day's gains as traders took  stern words from European officials against the U.S. currency's  weakness as a signal to take profits.\nDollar Vulnerable, Stocks Rise Overseas  LONDON (Reuters) - The euro was near two-month highs  against the dollar Friday as key U.S. data loomed and as  traders awaited a Group of Seven meeting of finance ministers,  while oil-fired inflation fears lifted gold close.\n### Three random:\nDollar Extends Recovery Against Euro, Yen  TOKYO (Reuters) - The dollar rebounded for a second session  on Thursday as traders and investors took profits on bets  against the U.S. currency before the year draws to a close.\nA major step in the battle for Formula One The battle for control of Formula One, the company which holds commercial control of Formula 1 racing, took a major turn on Friday when the High Court in London rejected an appeal by Formula One Holdings against a court action being held in the United \nBank of Ireland profit up Bank of Ireland has reported a 5 percent rise in first-half profits, in line with predictions made in its September trading update, and says it is confident about the outlook for the full year.\n"
     ]
    }
   ],
   "source": [
    "# A case where it works\n",
    "([dist], [idx]) = tree.query(compressed.sample(1, random_state=43), k=3)\n",
    "print(\"### Three neighbors:\")\n",
    "print(*list(dfs.iloc[idx].text), sep='\\n')\n",
    "\n",
    "print(\"### Three random:\")\n",
    "print(*list(dfs.sample(3, random_state=43).text), sep='\\n')"
   ]
  },
  {
   "cell_type": "code",
   "execution_count": 361,
   "metadata": {},
   "outputs": [
    {
     "output_type": "stream",
     "name": "stdout",
     "text": [
      "### Three neighbors:\nSoftware Tutors Offer Help and Customized Hints OURTEEN-year-old Rochelle Brown was close to solving an algebra problem. Yet she stumbled repeatedly on one calculation: -2.3  .5.\nLoss of face Mitsubishi Motors, damaged by a series of cover-ups over vehicle defects, yesterday produced the worst results in its 34-year history, with interim net losses doubling to 146 billion yen (744m).\nPension Promise No Guarantee of Security With just eight years to go, Steve Derebey had been eyeing his mandatory retirement age with something close to relief.\n### Three random:\nSoftware Tutors Offer Help and Customized Hints OURTEEN-year-old Rochelle Brown was close to solving an algebra problem. Yet she stumbled repeatedly on one calculation: -2.3  .5.\nPollution May Be Reducing Calif. Rainfall (AP) AP - Urban air pollution may be reducing rainfall in the Central Valley and along the heavily populated southern California coast, while trimming mountain snowfall that supplies much of the state's drinking and irrigation water and hydroelectric power, a Stanford University professor's study released Thursday shows.\nKerry Faults Bush for WTO Sanctions Threat Democratic presidential candidate John Kerry on Tuesday accused the Bush administration of failing to protect American jobs from unfair foreign competition after the World \n"
     ]
    }
   ],
   "source": [
    "# A case where it doesn't really work (different random_state)\n",
    "([dist], [idx]) = tree.query(compressed.sample(1, random_state=11), k=3)\n",
    "print(\"### Three neighbors:\")\n",
    "print(*list(dfs.iloc[idx].text), sep='\\n')\n",
    "\n",
    "print(\"### Three random:\")\n",
    "print(*list(dfs.sample(3, random_state=11).text), sep='\\n')"
   ]
  },
  {
   "cell_type": "markdown",
   "metadata": {},
   "source": [
    "## Embeddings"
   ]
  },
  {
   "cell_type": "code",
   "execution_count": 385,
   "metadata": {},
   "outputs": [
    {
     "output_type": "stream",
     "name": "stdout",
     "text": [
      "['t', 'hkj', 'khjahkjs', 'asd', 'as']\n"
     ]
    },
    {
     "output_type": "execute_result",
     "data": {
      "text/plain": [
       "          label                                              title  \\\n",
       "8711      world  British Theater Reaches Out to Autistic Childr...   \n",
       "38069  business     European Shares Dip on Swiss Re Woes (Reuters)   \n",
       "\n",
       "                                                    lead  \\\n",
       "8711   Reuters - For children with autism, theater ca...   \n",
       "38069  Reuters - Swiss Re led European shares lower o...   \n",
       "\n",
       "                                                    text  business  \\\n",
       "8711   British Theater Reaches Out to Autistic Childr...     False   \n",
       "38069  European Shares Dip on Swiss Re Woes (Reuters)...      True   \n",
       "\n",
       "                                               tokenized  \\\n",
       "8711   [british, theater, reach, autistic, children, ...   \n",
       "38069  [european, shares, dip, swiss, woe, reuters, r...   \n",
       "\n",
       "                                                   words  \\\n",
       "8711   british theater reach autistic children reuter...   \n",
       "38069  european shares dip swiss woe reuters reuters ...   \n",
       "\n",
       "                                                 ktokens  \n",
       "8711   [british, theater, reaches, out, to, autistic,...  \n",
       "38069  [european, shares, dip, on, swiss, re, woes, r...  "
      ],
      "text/html": "<div>\n<style scoped>\n    .dataframe tbody tr th:only-of-type {\n        vertical-align: middle;\n    }\n\n    .dataframe tbody tr th {\n        vertical-align: top;\n    }\n\n    .dataframe thead th {\n        text-align: right;\n    }\n</style>\n<table border=\"1\" class=\"dataframe\">\n  <thead>\n    <tr style=\"text-align: right;\">\n      <th></th>\n      <th>label</th>\n      <th>title</th>\n      <th>lead</th>\n      <th>text</th>\n      <th>business</th>\n      <th>tokenized</th>\n      <th>words</th>\n      <th>ktokens</th>\n    </tr>\n  </thead>\n  <tbody>\n    <tr>\n      <th>8711</th>\n      <td>world</td>\n      <td>British Theater Reaches Out to Autistic Childr...</td>\n      <td>Reuters - For children with autism, theater ca...</td>\n      <td>British Theater Reaches Out to Autistic Childr...</td>\n      <td>False</td>\n      <td>[british, theater, reach, autistic, children, ...</td>\n      <td>british theater reach autistic children reuter...</td>\n      <td>[british, theater, reaches, out, to, autistic,...</td>\n    </tr>\n    <tr>\n      <th>38069</th>\n      <td>business</td>\n      <td>European Shares Dip on Swiss Re Woes (Reuters)</td>\n      <td>Reuters - Swiss Re led European shares lower o...</td>\n      <td>European Shares Dip on Swiss Re Woes (Reuters)...</td>\n      <td>True</td>\n      <td>[european, shares, dip, swiss, woe, reuters, r...</td>\n      <td>european shares dip swiss woe reuters reuters ...</td>\n      <td>[european, shares, dip, on, swiss, re, woes, r...</td>\n    </tr>\n  </tbody>\n</table>\n</div>"
     },
     "metadata": {},
     "execution_count": 385
    }
   ],
   "source": [
    "import tensorflow.keras as keras\n",
    "from tensorflow.keras.preprocessing.text import text_to_word_sequence\n",
    "\n",
    "print(text_to_word_sequence(\"T hkj khjahkjs . asd as\"))\n",
    "\n",
    "dfs['ktokens'] = dfs.text.apply(text_to_word_sequence)\n",
    "\n",
    "dfs.head(2)"
   ]
  },
  {
   "cell_type": "code",
   "execution_count": 478,
   "metadata": {},
   "outputs": [
    {
     "output_type": "stream",
     "name": "stdout",
     "text": [
      "(10800, 100)\n0 0 0 0 0 0 0 0 0 0 0 0 0 0 0 0 0 0 0 0 0 0 0 0 0 0 0 0 0 0 0 0 0 0 0 0 0 0 0 0 0 0 0 0 0 0 0 0 0 0 0 0 0 0 0 0 0 0 0 0 0 859 577 287 651 291 8 428 375 329 301 859 577 628 632 143 884 275 68 917 303 863 751 446 902 94 428 953 375 443 187 734 14 8 143 10 143 830 859 209\n"
     ]
    }
   ],
   "source": [
    "from tensorflow.keras.preprocessing.text import one_hot\n",
    "from tensorflow.keras.preprocessing.sequence import pad_sequences\n",
    "\n",
    "length_vocab = 1000\n",
    "max_seq_length = 100\n",
    "\n",
    "from more_itertools import first\n",
    "\n",
    "#print(*one_hot(first(dfs.text), n=1000))\n",
    "\n",
    "# create a one_hot representation for each word and truncate/pad the sequences such that they are all of the same length\n",
    "\n",
    "A_train = pad_sequences(dfs_train.text.apply(lambda t: one_hot(t, n=length_vocab)), maxlen=max_seq_length)\n",
    "A_valid = pad_sequences(dfs_valid.text.apply(lambda t: one_hot(t, n=length_vocab)), maxlen=max_seq_length)\n",
    "\n",
    "print((A_train.shape))\n",
    "print(*A_train[0, :])"
   ]
  },
  {
   "cell_type": "code",
   "execution_count": 479,
   "metadata": {},
   "outputs": [
    {
     "output_type": "stream",
     "name": "stdout",
     "text": [
      "Model: \"sequential_268\"\n_________________________________________________________________\nLayer (type)                 Output Shape              Param #   \n=================================================================\nembedding_25 (Embedding)     (None, None, 32)          32000     \n=================================================================\nTotal params: 32,000\nTrainable params: 32,000\nNon-trainable params: 0\n_________________________________________________________________\n"
     ]
    }
   ],
   "source": [
    "from tensorflow.keras.layers import Embedding\n",
    "\n",
    "# create a sequential model with just one embedding layer and show the model summary\n",
    "\n",
    "model = tf.keras.models.Sequential([Embedding(input_dim=length_vocab, output_dim=32, )])\n",
    "model(A_train).shape\n",
    "\n",
    "model.summary()"
   ]
  },
  {
   "cell_type": "markdown",
   "metadata": {},
   "source": [
    "## LSTM"
   ]
  },
  {
   "cell_type": "code",
   "execution_count": 487,
   "metadata": {},
   "outputs": [
    {
     "output_type": "execute_result",
     "data": {
      "text/plain": [
       "TensorShape([10800, 1])"
      ]
     },
     "metadata": {},
     "execution_count": 487
    }
   ],
   "source": [
    "# create a sequential model with an embedding layer, a LSTM layer and two hidden layers with ReLu activation function, followed by dropout\n",
    "\n",
    "model = tf.keras.models.Sequential([\n",
    "    Embedding(input_dim=length_vocab, output_dim=16),\n",
    "    tf.keras.layers.LSTM(32),\n",
    "    tf.keras.layers.Dense(16, activation='relu'),\n",
    "    tf.keras.layers.Dense(16, activation='relu'),\n",
    "    tf.keras.layers.Dropout(0.25),\n",
    "    tf.keras.layers.Dense(8, activation='relu'),\n",
    "    tf.keras.layers.Dense(1, activation='sigmoid'),\n",
    "])\n",
    "\n",
    "model.compile(optimizer='adam', loss='binary_crossentropy', metrics=['accuracy'])\n",
    "\n",
    "model(A_train).shape"
   ]
  },
  {
   "cell_type": "code",
   "execution_count": 488,
   "metadata": {},
   "outputs": [
    {
     "output_type": "stream",
     "name": "stdout",
     "text": [
      "Epoch 1/10\n",
      "338/338 [==============================] - 16s 42ms/step - loss: 0.5262 - accuracy: 0.7656 - val_loss: 0.3508 - val_accuracy: 0.8492\n",
      "Epoch 2/10\n",
      "338/338 [==============================] - 13s 37ms/step - loss: 0.3044 - accuracy: 0.8831 - val_loss: 0.3273 - val_accuracy: 0.8583\n",
      "Epoch 3/10\n",
      "338/338 [==============================] - 12s 36ms/step - loss: 0.2991 - accuracy: 0.8869 - val_loss: 0.3318 - val_accuracy: 0.8658\n",
      "Epoch 4/10\n",
      "338/338 [==============================] - 12s 35ms/step - loss: 0.2628 - accuracy: 0.9032 - val_loss: 0.3216 - val_accuracy: 0.8625\n",
      "Epoch 5/10\n",
      "338/338 [==============================] - 13s 40ms/step - loss: 0.2514 - accuracy: 0.9062 - val_loss: 0.3296 - val_accuracy: 0.8675\n",
      "Epoch 6/10\n",
      "338/338 [==============================] - 12s 35ms/step - loss: 0.2358 - accuracy: 0.9131 - val_loss: 0.3300 - val_accuracy: 0.8583\n",
      "Epoch 7/10\n",
      "338/338 [==============================] - 12s 35ms/step - loss: 0.2177 - accuracy: 0.9214 - val_loss: 0.3573 - val_accuracy: 0.8508\n",
      "Epoch 8/10\n",
      "338/338 [==============================] - 11s 32ms/step - loss: 0.2170 - accuracy: 0.9240 - val_loss: 0.3491 - val_accuracy: 0.8567\n",
      "Epoch 9/10\n",
      "338/338 [==============================] - 12s 36ms/step - loss: 0.2054 - accuracy: 0.9274 - val_loss: 0.3896 - val_accuracy: 0.8525\n"
     ]
    },
    {
     "output_type": "execute_result",
     "data": {
      "text/plain": [
       "<tensorflow.python.keras.callbacks.History at 0x7fd21d365280>"
      ]
     },
     "metadata": {},
     "execution_count": 488
    }
   ],
   "source": [
    "model.fit(x=A_train, y=dfs_train.business, epochs=10, validation_data=(A_valid, dfs_valid.business), callbacks=[tf.keras.callbacks.EarlyStopping(patience=5)])"
   ]
  },
  {
   "cell_type": "code",
   "execution_count": 489,
   "metadata": {},
   "outputs": [],
   "source": [
    "from sklearn.metrics import roc_curve, auc\n",
    "(fpr_lstm, tpr_lstm, _) = roc_curve(dfs_valid.business, model(A_valid))"
   ]
  },
  {
   "cell_type": "code",
   "execution_count": 490,
   "metadata": {},
   "outputs": [
    {
     "output_type": "display_data",
     "data": {
      "text/plain": "<Figure size 1080x720 with 1 Axes>",
      "image/svg+xml": "<?xml version=\"1.0\" encoding=\"utf-8\" standalone=\"no\"?>\n<!DOCTYPE svg PUBLIC \"-//W3C//DTD SVG 1.1//EN\"\n  \"http://www.w3.org/Graphics/SVG/1.1/DTD/svg11.dtd\">\n<!-- Created with matplotlib (https://matplotlib.org/) -->\n<svg height=\"264.354375pt\" version=\"1.1\" viewBox=\"0 0 372.82125 264.354375\" width=\"372.82125pt\" xmlns=\"http://www.w3.org/2000/svg\" xmlns:xlink=\"http://www.w3.org/1999/xlink\">\n <metadata>\n  <rdf:RDF xmlns:cc=\"http://creativecommons.org/ns#\" xmlns:dc=\"http://purl.org/dc/elements/1.1/\" xmlns:rdf=\"http://www.w3.org/1999/02/22-rdf-syntax-ns#\">\n   <cc:Work>\n    <dc:type rdf:resource=\"http://purl.org/dc/dcmitype/StillImage\"/>\n    <dc:date>2021-03-29T13:02:51.828879</dc:date>\n    <dc:format>image/svg+xml</dc:format>\n    <dc:creator>\n     <cc:Agent>\n      <dc:title>Matplotlib v3.3.4, https://matplotlib.org/</dc:title>\n     </cc:Agent>\n    </dc:creator>\n   </cc:Work>\n  </rdf:RDF>\n </metadata>\n <defs>\n  <style type=\"text/css\">*{stroke-linecap:butt;stroke-linejoin:round;}</style>\n </defs>\n <g id=\"figure_1\">\n  <g id=\"patch_1\">\n   <path d=\"M 0 264.354375 \nL 372.82125 264.354375 \nL 372.82125 0 \nL 0 0 \nz\n\" style=\"fill:none;\"/>\n  </g>\n  <g id=\"axes_1\">\n   <g id=\"patch_2\">\n    <path d=\"M 37.30125 233.278125 \nL 372.10125 233.278125 \nL 372.10125 15.838125 \nL 37.30125 15.838125 \nz\n\" style=\"fill:#ffffff;\"/>\n   </g>\n   <g id=\"matplotlib.axis_1\">\n    <g id=\"xtick_1\">\n     <g id=\"line2d_1\">\n      <defs>\n       <path d=\"M 0 0 \nL 0 3.5 \n\" id=\"m0423e5d34e\" style=\"stroke:#000000;stroke-width:0.8;\"/>\n      </defs>\n      <g>\n       <use style=\"stroke:#000000;stroke-width:0.8;\" x=\"52.519432\" xlink:href=\"#m0423e5d34e\" y=\"233.278125\"/>\n      </g>\n     </g>\n     <g id=\"text_1\">\n      <!-- 0.0 -->\n      <g transform=\"translate(44.567869 247.876563)scale(0.1 -0.1)\">\n       <defs>\n        <path d=\"M 31.78125 66.40625 \nQ 24.171875 66.40625 20.328125 58.90625 \nQ 16.5 51.421875 16.5 36.375 \nQ 16.5 21.390625 20.328125 13.890625 \nQ 24.171875 6.390625 31.78125 6.390625 \nQ 39.453125 6.390625 43.28125 13.890625 \nQ 47.125 21.390625 47.125 36.375 \nQ 47.125 51.421875 43.28125 58.90625 \nQ 39.453125 66.40625 31.78125 66.40625 \nz\nM 31.78125 74.21875 \nQ 44.046875 74.21875 50.515625 64.515625 \nQ 56.984375 54.828125 56.984375 36.375 \nQ 56.984375 17.96875 50.515625 8.265625 \nQ 44.046875 -1.421875 31.78125 -1.421875 \nQ 19.53125 -1.421875 13.0625 8.265625 \nQ 6.59375 17.96875 6.59375 36.375 \nQ 6.59375 54.828125 13.0625 64.515625 \nQ 19.53125 74.21875 31.78125 74.21875 \nz\n\" id=\"DejaVuSans-48\"/>\n        <path d=\"M 10.6875 12.40625 \nL 21 12.40625 \nL 21 0 \nL 10.6875 0 \nz\n\" id=\"DejaVuSans-46\"/>\n       </defs>\n       <use xlink:href=\"#DejaVuSans-48\"/>\n       <use x=\"63.623047\" xlink:href=\"#DejaVuSans-46\"/>\n       <use x=\"95.410156\" xlink:href=\"#DejaVuSans-48\"/>\n      </g>\n     </g>\n    </g>\n    <g id=\"xtick_2\">\n     <g id=\"line2d_2\">\n      <g>\n       <use style=\"stroke:#000000;stroke-width:0.8;\" x=\"113.392159\" xlink:href=\"#m0423e5d34e\" y=\"233.278125\"/>\n      </g>\n     </g>\n     <g id=\"text_2\">\n      <!-- 0.2 -->\n      <g transform=\"translate(105.440597 247.876563)scale(0.1 -0.1)\">\n       <defs>\n        <path d=\"M 19.1875 8.296875 \nL 53.609375 8.296875 \nL 53.609375 0 \nL 7.328125 0 \nL 7.328125 8.296875 \nQ 12.9375 14.109375 22.625 23.890625 \nQ 32.328125 33.6875 34.8125 36.53125 \nQ 39.546875 41.84375 41.421875 45.53125 \nQ 43.3125 49.21875 43.3125 52.78125 \nQ 43.3125 58.59375 39.234375 62.25 \nQ 35.15625 65.921875 28.609375 65.921875 \nQ 23.96875 65.921875 18.8125 64.3125 \nQ 13.671875 62.703125 7.8125 59.421875 \nL 7.8125 69.390625 \nQ 13.765625 71.78125 18.9375 73 \nQ 24.125 74.21875 28.421875 74.21875 \nQ 39.75 74.21875 46.484375 68.546875 \nQ 53.21875 62.890625 53.21875 53.421875 \nQ 53.21875 48.921875 51.53125 44.890625 \nQ 49.859375 40.875 45.40625 35.40625 \nQ 44.1875 33.984375 37.640625 27.21875 \nQ 31.109375 20.453125 19.1875 8.296875 \nz\n\" id=\"DejaVuSans-50\"/>\n       </defs>\n       <use xlink:href=\"#DejaVuSans-48\"/>\n       <use x=\"63.623047\" xlink:href=\"#DejaVuSans-46\"/>\n       <use x=\"95.410156\" xlink:href=\"#DejaVuSans-50\"/>\n      </g>\n     </g>\n    </g>\n    <g id=\"xtick_3\">\n     <g id=\"line2d_3\">\n      <g>\n       <use style=\"stroke:#000000;stroke-width:0.8;\" x=\"174.264886\" xlink:href=\"#m0423e5d34e\" y=\"233.278125\"/>\n      </g>\n     </g>\n     <g id=\"text_3\">\n      <!-- 0.4 -->\n      <g transform=\"translate(166.313324 247.876563)scale(0.1 -0.1)\">\n       <defs>\n        <path d=\"M 37.796875 64.3125 \nL 12.890625 25.390625 \nL 37.796875 25.390625 \nz\nM 35.203125 72.90625 \nL 47.609375 72.90625 \nL 47.609375 25.390625 \nL 58.015625 25.390625 \nL 58.015625 17.1875 \nL 47.609375 17.1875 \nL 47.609375 0 \nL 37.796875 0 \nL 37.796875 17.1875 \nL 4.890625 17.1875 \nL 4.890625 26.703125 \nz\n\" id=\"DejaVuSans-52\"/>\n       </defs>\n       <use xlink:href=\"#DejaVuSans-48\"/>\n       <use x=\"63.623047\" xlink:href=\"#DejaVuSans-46\"/>\n       <use x=\"95.410156\" xlink:href=\"#DejaVuSans-52\"/>\n      </g>\n     </g>\n    </g>\n    <g id=\"xtick_4\">\n     <g id=\"line2d_4\">\n      <g>\n       <use style=\"stroke:#000000;stroke-width:0.8;\" x=\"235.137614\" xlink:href=\"#m0423e5d34e\" y=\"233.278125\"/>\n      </g>\n     </g>\n     <g id=\"text_4\">\n      <!-- 0.6 -->\n      <g transform=\"translate(227.186051 247.876563)scale(0.1 -0.1)\">\n       <defs>\n        <path d=\"M 33.015625 40.375 \nQ 26.375 40.375 22.484375 35.828125 \nQ 18.609375 31.296875 18.609375 23.390625 \nQ 18.609375 15.53125 22.484375 10.953125 \nQ 26.375 6.390625 33.015625 6.390625 \nQ 39.65625 6.390625 43.53125 10.953125 \nQ 47.40625 15.53125 47.40625 23.390625 \nQ 47.40625 31.296875 43.53125 35.828125 \nQ 39.65625 40.375 33.015625 40.375 \nz\nM 52.59375 71.296875 \nL 52.59375 62.3125 \nQ 48.875 64.0625 45.09375 64.984375 \nQ 41.3125 65.921875 37.59375 65.921875 \nQ 27.828125 65.921875 22.671875 59.328125 \nQ 17.53125 52.734375 16.796875 39.40625 \nQ 19.671875 43.65625 24.015625 45.921875 \nQ 28.375 48.1875 33.59375 48.1875 \nQ 44.578125 48.1875 50.953125 41.515625 \nQ 57.328125 34.859375 57.328125 23.390625 \nQ 57.328125 12.15625 50.6875 5.359375 \nQ 44.046875 -1.421875 33.015625 -1.421875 \nQ 20.359375 -1.421875 13.671875 8.265625 \nQ 6.984375 17.96875 6.984375 36.375 \nQ 6.984375 53.65625 15.1875 63.9375 \nQ 23.390625 74.21875 37.203125 74.21875 \nQ 40.921875 74.21875 44.703125 73.484375 \nQ 48.484375 72.75 52.59375 71.296875 \nz\n\" id=\"DejaVuSans-54\"/>\n       </defs>\n       <use xlink:href=\"#DejaVuSans-48\"/>\n       <use x=\"63.623047\" xlink:href=\"#DejaVuSans-46\"/>\n       <use x=\"95.410156\" xlink:href=\"#DejaVuSans-54\"/>\n      </g>\n     </g>\n    </g>\n    <g id=\"xtick_5\">\n     <g id=\"line2d_5\">\n      <g>\n       <use style=\"stroke:#000000;stroke-width:0.8;\" x=\"296.010341\" xlink:href=\"#m0423e5d34e\" y=\"233.278125\"/>\n      </g>\n     </g>\n     <g id=\"text_5\">\n      <!-- 0.8 -->\n      <g transform=\"translate(288.058778 247.876563)scale(0.1 -0.1)\">\n       <defs>\n        <path d=\"M 31.78125 34.625 \nQ 24.75 34.625 20.71875 30.859375 \nQ 16.703125 27.09375 16.703125 20.515625 \nQ 16.703125 13.921875 20.71875 10.15625 \nQ 24.75 6.390625 31.78125 6.390625 \nQ 38.8125 6.390625 42.859375 10.171875 \nQ 46.921875 13.96875 46.921875 20.515625 \nQ 46.921875 27.09375 42.890625 30.859375 \nQ 38.875 34.625 31.78125 34.625 \nz\nM 21.921875 38.8125 \nQ 15.578125 40.375 12.03125 44.71875 \nQ 8.5 49.078125 8.5 55.328125 \nQ 8.5 64.0625 14.71875 69.140625 \nQ 20.953125 74.21875 31.78125 74.21875 \nQ 42.671875 74.21875 48.875 69.140625 \nQ 55.078125 64.0625 55.078125 55.328125 \nQ 55.078125 49.078125 51.53125 44.71875 \nQ 48 40.375 41.703125 38.8125 \nQ 48.828125 37.15625 52.796875 32.3125 \nQ 56.78125 27.484375 56.78125 20.515625 \nQ 56.78125 9.90625 50.3125 4.234375 \nQ 43.84375 -1.421875 31.78125 -1.421875 \nQ 19.734375 -1.421875 13.25 4.234375 \nQ 6.78125 9.90625 6.78125 20.515625 \nQ 6.78125 27.484375 10.78125 32.3125 \nQ 14.796875 37.15625 21.921875 38.8125 \nz\nM 18.3125 54.390625 \nQ 18.3125 48.734375 21.84375 45.5625 \nQ 25.390625 42.390625 31.78125 42.390625 \nQ 38.140625 42.390625 41.71875 45.5625 \nQ 45.3125 48.734375 45.3125 54.390625 \nQ 45.3125 60.0625 41.71875 63.234375 \nQ 38.140625 66.40625 31.78125 66.40625 \nQ 25.390625 66.40625 21.84375 63.234375 \nQ 18.3125 60.0625 18.3125 54.390625 \nz\n\" id=\"DejaVuSans-56\"/>\n       </defs>\n       <use xlink:href=\"#DejaVuSans-48\"/>\n       <use x=\"63.623047\" xlink:href=\"#DejaVuSans-46\"/>\n       <use x=\"95.410156\" xlink:href=\"#DejaVuSans-56\"/>\n      </g>\n     </g>\n    </g>\n    <g id=\"xtick_6\">\n     <g id=\"line2d_6\">\n      <g>\n       <use style=\"stroke:#000000;stroke-width:0.8;\" x=\"356.883068\" xlink:href=\"#m0423e5d34e\" y=\"233.278125\"/>\n      </g>\n     </g>\n     <g id=\"text_6\">\n      <!-- 1.0 -->\n      <g transform=\"translate(348.931506 247.876563)scale(0.1 -0.1)\">\n       <defs>\n        <path d=\"M 12.40625 8.296875 \nL 28.515625 8.296875 \nL 28.515625 63.921875 \nL 10.984375 60.40625 \nL 10.984375 69.390625 \nL 28.421875 72.90625 \nL 38.28125 72.90625 \nL 38.28125 8.296875 \nL 54.390625 8.296875 \nL 54.390625 0 \nL 12.40625 0 \nz\n\" id=\"DejaVuSans-49\"/>\n       </defs>\n       <use xlink:href=\"#DejaVuSans-49\"/>\n       <use x=\"63.623047\" xlink:href=\"#DejaVuSans-46\"/>\n       <use x=\"95.410156\" xlink:href=\"#DejaVuSans-48\"/>\n      </g>\n     </g>\n    </g>\n    <g id=\"text_7\">\n     <!-- FPR -->\n     <g transform=\"translate(195.336406 261.554688)scale(0.1 -0.1)\">\n      <defs>\n       <path d=\"M 9.8125 72.90625 \nL 51.703125 72.90625 \nL 51.703125 64.59375 \nL 19.671875 64.59375 \nL 19.671875 43.109375 \nL 48.578125 43.109375 \nL 48.578125 34.8125 \nL 19.671875 34.8125 \nL 19.671875 0 \nL 9.8125 0 \nz\n\" id=\"DejaVuSans-70\"/>\n       <path d=\"M 19.671875 64.796875 \nL 19.671875 37.40625 \nL 32.078125 37.40625 \nQ 38.96875 37.40625 42.71875 40.96875 \nQ 46.484375 44.53125 46.484375 51.125 \nQ 46.484375 57.671875 42.71875 61.234375 \nQ 38.96875 64.796875 32.078125 64.796875 \nz\nM 9.8125 72.90625 \nL 32.078125 72.90625 \nQ 44.34375 72.90625 50.609375 67.359375 \nQ 56.890625 61.8125 56.890625 51.125 \nQ 56.890625 40.328125 50.609375 34.8125 \nQ 44.34375 29.296875 32.078125 29.296875 \nL 19.671875 29.296875 \nL 19.671875 0 \nL 9.8125 0 \nz\n\" id=\"DejaVuSans-80\"/>\n       <path d=\"M 44.390625 34.1875 \nQ 47.5625 33.109375 50.5625 29.59375 \nQ 53.5625 26.078125 56.59375 19.921875 \nL 66.609375 0 \nL 56 0 \nL 46.6875 18.703125 \nQ 43.0625 26.03125 39.671875 28.421875 \nQ 36.28125 30.8125 30.421875 30.8125 \nL 19.671875 30.8125 \nL 19.671875 0 \nL 9.8125 0 \nL 9.8125 72.90625 \nL 32.078125 72.90625 \nQ 44.578125 72.90625 50.734375 67.671875 \nQ 56.890625 62.453125 56.890625 51.90625 \nQ 56.890625 45.015625 53.6875 40.46875 \nQ 50.484375 35.9375 44.390625 34.1875 \nz\nM 19.671875 64.796875 \nL 19.671875 38.921875 \nL 32.078125 38.921875 \nQ 39.203125 38.921875 42.84375 42.21875 \nQ 46.484375 45.515625 46.484375 51.90625 \nQ 46.484375 58.296875 42.84375 61.546875 \nQ 39.203125 64.796875 32.078125 64.796875 \nz\n\" id=\"DejaVuSans-82\"/>\n      </defs>\n      <use xlink:href=\"#DejaVuSans-70\"/>\n      <use x=\"57.519531\" xlink:href=\"#DejaVuSans-80\"/>\n      <use x=\"117.822266\" xlink:href=\"#DejaVuSans-82\"/>\n     </g>\n    </g>\n   </g>\n   <g id=\"matplotlib.axis_2\">\n    <g id=\"ytick_1\">\n     <g id=\"line2d_7\">\n      <defs>\n       <path d=\"M 0 0 \nL -3.5 0 \n\" id=\"m399d0b9d30\" style=\"stroke:#000000;stroke-width:0.8;\"/>\n      </defs>\n      <g>\n       <use style=\"stroke:#000000;stroke-width:0.8;\" x=\"37.30125\" xlink:href=\"#m399d0b9d30\" y=\"223.394489\"/>\n      </g>\n     </g>\n     <g id=\"text_8\">\n      <!-- 0.0 -->\n      <g transform=\"translate(14.398125 227.193707)scale(0.1 -0.1)\">\n       <use xlink:href=\"#DejaVuSans-48\"/>\n       <use x=\"63.623047\" xlink:href=\"#DejaVuSans-46\"/>\n       <use x=\"95.410156\" xlink:href=\"#DejaVuSans-48\"/>\n      </g>\n     </g>\n    </g>\n    <g id=\"ytick_2\">\n     <g id=\"line2d_8\">\n      <g>\n       <use style=\"stroke:#000000;stroke-width:0.8;\" x=\"37.30125\" xlink:href=\"#m399d0b9d30\" y=\"183.859943\"/>\n      </g>\n     </g>\n     <g id=\"text_9\">\n      <!-- 0.2 -->\n      <g transform=\"translate(14.398125 187.659162)scale(0.1 -0.1)\">\n       <use xlink:href=\"#DejaVuSans-48\"/>\n       <use x=\"63.623047\" xlink:href=\"#DejaVuSans-46\"/>\n       <use x=\"95.410156\" xlink:href=\"#DejaVuSans-50\"/>\n      </g>\n     </g>\n    </g>\n    <g id=\"ytick_3\">\n     <g id=\"line2d_9\">\n      <g>\n       <use style=\"stroke:#000000;stroke-width:0.8;\" x=\"37.30125\" xlink:href=\"#m399d0b9d30\" y=\"144.325398\"/>\n      </g>\n     </g>\n     <g id=\"text_10\">\n      <!-- 0.4 -->\n      <g transform=\"translate(14.398125 148.124616)scale(0.1 -0.1)\">\n       <use xlink:href=\"#DejaVuSans-48\"/>\n       <use x=\"63.623047\" xlink:href=\"#DejaVuSans-46\"/>\n       <use x=\"95.410156\" xlink:href=\"#DejaVuSans-52\"/>\n      </g>\n     </g>\n    </g>\n    <g id=\"ytick_4\">\n     <g id=\"line2d_10\">\n      <g>\n       <use style=\"stroke:#000000;stroke-width:0.8;\" x=\"37.30125\" xlink:href=\"#m399d0b9d30\" y=\"104.790852\"/>\n      </g>\n     </g>\n     <g id=\"text_11\">\n      <!-- 0.6 -->\n      <g transform=\"translate(14.398125 108.590071)scale(0.1 -0.1)\">\n       <use xlink:href=\"#DejaVuSans-48\"/>\n       <use x=\"63.623047\" xlink:href=\"#DejaVuSans-46\"/>\n       <use x=\"95.410156\" xlink:href=\"#DejaVuSans-54\"/>\n      </g>\n     </g>\n    </g>\n    <g id=\"ytick_5\">\n     <g id=\"line2d_11\">\n      <g>\n       <use style=\"stroke:#000000;stroke-width:0.8;\" x=\"37.30125\" xlink:href=\"#m399d0b9d30\" y=\"65.256307\"/>\n      </g>\n     </g>\n     <g id=\"text_12\">\n      <!-- 0.8 -->\n      <g transform=\"translate(14.398125 69.055526)scale(0.1 -0.1)\">\n       <use xlink:href=\"#DejaVuSans-48\"/>\n       <use x=\"63.623047\" xlink:href=\"#DejaVuSans-46\"/>\n       <use x=\"95.410156\" xlink:href=\"#DejaVuSans-56\"/>\n      </g>\n     </g>\n    </g>\n    <g id=\"ytick_6\">\n     <g id=\"line2d_12\">\n      <g>\n       <use style=\"stroke:#000000;stroke-width:0.8;\" x=\"37.30125\" xlink:href=\"#m399d0b9d30\" y=\"25.721761\"/>\n      </g>\n     </g>\n     <g id=\"text_13\">\n      <!-- 1.0 -->\n      <g transform=\"translate(14.398125 29.52098)scale(0.1 -0.1)\">\n       <use xlink:href=\"#DejaVuSans-49\"/>\n       <use x=\"63.623047\" xlink:href=\"#DejaVuSans-46\"/>\n       <use x=\"95.410156\" xlink:href=\"#DejaVuSans-48\"/>\n      </g>\n     </g>\n    </g>\n    <g id=\"text_14\">\n     <!-- TPR -->\n     <g transform=\"translate(8.318438 134.101094)rotate(-90)scale(0.1 -0.1)\">\n      <defs>\n       <path d=\"M -0.296875 72.90625 \nL 61.375 72.90625 \nL 61.375 64.59375 \nL 35.5 64.59375 \nL 35.5 0 \nL 25.59375 0 \nL 25.59375 64.59375 \nL -0.296875 64.59375 \nz\n\" id=\"DejaVuSans-84\"/>\n      </defs>\n      <use xlink:href=\"#DejaVuSans-84\"/>\n      <use x=\"61.083984\" xlink:href=\"#DejaVuSans-80\"/>\n      <use x=\"121.386719\" xlink:href=\"#DejaVuSans-82\"/>\n     </g>\n    </g>\n   </g>\n   <g id=\"line2d_13\">\n    <path clip-path=\"url(#pb3219ac44f)\" d=\"M 52.519432 223.394489 \nL 59.877674 69.346087 \nL 59.877674 67.301197 \nL 60.212139 67.301197 \nL 60.212139 65.256307 \nL 60.546605 65.256307 \nL 60.546605 61.166526 \nL 61.215536 61.166526 \nL 61.215536 57.758376 \nL 61.884467 57.758376 \nL 61.884467 57.076746 \nL 62.218932 57.076746 \nL 62.218932 55.713486 \nL 63.222329 55.713486 \nL 63.222329 55.031855 \nL 64.894657 55.031855 \nL 64.894657 54.350225 \nL 65.229122 54.350225 \nL 65.229122 52.986965 \nL 67.570381 52.986965 \nL 67.570381 51.623705 \nL 68.239312 51.623705 \nL 68.239312 50.260445 \nL 71.583967 50.260445 \nL 71.583967 49.578815 \nL 74.594157 49.578815 \nL 74.594157 48.897185 \nL 74.928623 48.897185 \nL 74.928623 48.215554 \nL 76.935416 48.215554 \nL 76.935416 47.533924 \nL 78.273278 47.533924 \nL 78.273278 46.852294 \nL 79.276675 46.852294 \nL 79.276675 46.170664 \nL 79.61114 46.170664 \nL 79.61114 45.489034 \nL 82.955795 45.489034 \nL 82.955795 44.807404 \nL 84.628123 44.807404 \nL 84.628123 44.125774 \nL 86.634916 44.125774 \nL 86.634916 43.444144 \nL 87.303847 43.444144 \nL 87.303847 42.762514 \nL 87.638313 42.762514 \nL 87.638313 42.080884 \nL 87.972778 42.080884 \nL 87.972778 41.399254 \nL 88.976175 41.399254 \nL 88.976175 39.354363 \nL 90.314037 39.354363 \nL 90.314037 38.672733 \nL 91.986365 38.672733 \nL 91.986365 37.991103 \nL 93.658693 37.991103 \nL 93.658693 37.309473 \nL 97.003348 37.309473 \nL 97.003348 36.627843 \nL 98.675676 36.627843 \nL 98.675676 35.946213 \nL 104.36159 35.946213 \nL 104.36159 35.264583 \nL 108.709642 35.264583 \nL 108.709642 34.582953 \nL 109.378573 34.582953 \nL 109.378573 33.901322 \nL 109.713038 33.901322 \nL 109.713038 33.219692 \nL 110.716435 33.219692 \nL 110.716435 32.538062 \nL 111.719831 32.538062 \nL 111.719831 31.856432 \nL 114.730021 31.856432 \nL 114.730021 31.174802 \nL 115.398952 31.174802 \nL 115.398952 30.493172 \nL 117.405746 30.493172 \nL 117.405746 29.811542 \nL 117.740211 29.811542 \nL 117.740211 29.129912 \nL 127.105246 29.129912 \nL 127.105246 28.448282 \nL 130.449901 28.448282 \nL 130.449901 27.766652 \nL 134.463488 27.766652 \nL 134.463488 27.085022 \nL 140.149402 27.085022 \nL 140.149402 26.403391 \nL 158.879472 26.403391 \nL 158.879472 25.721761 \nL 318.753997 25.721761 \nL 319.422928 25.721761 \nL 356.883068 25.721761 \n\" style=\"fill:none;stroke:#1f77b4;stroke-linecap:square;stroke-width:1.5;\"/>\n   </g>\n   <g id=\"line2d_14\">\n    <path clip-path=\"url(#pb3219ac44f)\" d=\"M 52.519432 223.394489 \nL 52.519432 215.214928 \nL 52.853897 215.214928 \nL 52.853897 213.851667 \nL 53.188363 213.851667 \nL 53.188363 198.855805 \nL 53.857294 198.855805 \nL 53.857294 197.492545 \nL 54.191759 197.492545 \nL 54.191759 193.402764 \nL 54.526225 193.402764 \nL 54.526225 192.039504 \nL 54.860691 192.039504 \nL 54.860691 187.949724 \nL 55.195156 187.949724 \nL 55.195156 179.088533 \nL 55.864087 179.088533 \nL 55.864087 166.137561 \nL 56.198553 166.137561 \nL 56.198553 165.455931 \nL 56.533018 165.455931 \nL 56.533018 161.36615 \nL 56.867484 161.36615 \nL 56.867484 160.00289 \nL 57.201949 160.00289 \nL 57.201949 156.594739 \nL 57.536415 156.594739 \nL 57.536415 149.778438 \nL 57.87088 149.778438 \nL 57.87088 149.096808 \nL 58.205346 149.096808 \nL 58.205346 148.415178 \nL 58.539811 148.415178 \nL 58.539811 146.370288 \nL 59.208743 146.370288 \nL 59.208743 145.007028 \nL 59.543208 145.007028 \nL 59.543208 144.325398 \nL 59.877674 144.325398 \nL 59.877674 139.553987 \nL 60.212139 139.553987 \nL 60.212139 136.827467 \nL 60.546605 136.827467 \nL 60.546605 131.374426 \nL 60.88107 131.374426 \nL 60.88107 127.966275 \nL 61.215536 127.966275 \nL 61.215536 126.603015 \nL 61.884467 126.603015 \nL 61.884467 125.239755 \nL 62.218932 125.239755 \nL 62.218932 124.558125 \nL 64.560191 124.558125 \nL 64.560191 121.149975 \nL 65.229122 121.149975 \nL 65.229122 118.423454 \nL 65.563588 118.423454 \nL 65.563588 117.060194 \nL 66.232519 117.060194 \nL 66.232519 115.015304 \nL 66.566984 115.015304 \nL 66.566984 113.652043 \nL 67.235915 113.652043 \nL 67.235915 112.970413 \nL 67.570381 112.970413 \nL 67.570381 110.243893 \nL 67.904846 110.243893 \nL 67.904846 108.880633 \nL 68.239312 108.880633 \nL 68.239312 107.517373 \nL 69.242709 107.517373 \nL 69.242709 106.835743 \nL 69.577174 106.835743 \nL 69.577174 106.154112 \nL 70.246105 106.154112 \nL 70.246105 104.790852 \nL 70.580571 104.790852 \nL 70.580571 104.109222 \nL 71.583967 104.109222 \nL 71.583967 103.427592 \nL 72.587364 103.427592 \nL 72.587364 102.745962 \nL 72.921829 102.745962 \nL 72.921829 99.337812 \nL 73.256295 99.337812 \nL 73.256295 97.292921 \nL 73.59076 97.292921 \nL 73.59076 96.611291 \nL 73.925226 96.611291 \nL 73.925226 95.929661 \nL 74.259692 95.929661 \nL 74.259692 95.248031 \nL 74.594157 95.248031 \nL 74.594157 93.884771 \nL 74.928623 93.884771 \nL 74.928623 93.203141 \nL 76.935416 93.203141 \nL 76.935416 92.521511 \nL 77.269881 92.521511 \nL 77.269881 91.15825 \nL 78.273278 91.15825 \nL 78.273278 90.47662 \nL 79.276675 90.47662 \nL 79.276675 89.11336 \nL 80.949002 89.11336 \nL 80.949002 86.38684 \nL 82.286864 86.38684 \nL 82.286864 85.70521 \nL 82.62133 85.70521 \nL 82.62133 83.660319 \nL 83.290261 83.660319 \nL 83.290261 80.933799 \nL 83.624727 80.933799 \nL 83.624727 80.252169 \nL 84.628123 80.252169 \nL 84.628123 79.570539 \nL 87.638313 79.570539 \nL 87.638313 78.207279 \nL 88.976175 78.207279 \nL 88.976175 77.525649 \nL 89.979572 77.525649 \nL 89.979572 76.844018 \nL 90.982968 76.844018 \nL 90.982968 76.162388 \nL 92.32083 76.162388 \nL 92.32083 74.799128 \nL 93.658693 74.799128 \nL 93.658693 74.117498 \nL 94.327624 74.117498 \nL 94.327624 73.435868 \nL 94.996555 73.435868 \nL 94.996555 72.754238 \nL 98.006745 72.754238 \nL 98.006745 72.072608 \nL 98.34121 72.072608 \nL 98.34121 71.390978 \nL 99.010141 71.390978 \nL 99.010141 70.027717 \nL 99.344607 70.027717 \nL 99.344607 69.346087 \nL 101.3514 69.346087 \nL 101.3514 67.982827 \nL 103.358193 67.982827 \nL 103.358193 67.301197 \nL 103.692659 67.301197 \nL 103.692659 66.619567 \nL 104.027124 66.619567 \nL 104.027124 65.256307 \nL 106.033917 65.256307 \nL 106.033917 64.574677 \nL 106.368383 64.574677 \nL 106.368383 63.893047 \nL 110.047504 63.893047 \nL 110.047504 63.211417 \nL 111.719831 63.211417 \nL 111.719831 62.529786 \nL 113.392159 62.529786 \nL 113.392159 61.848156 \nL 114.06109 61.848156 \nL 114.06109 59.803266 \nL 115.064487 59.803266 \nL 115.064487 57.758376 \nL 115.398952 57.758376 \nL 115.398952 57.076746 \nL 116.736814 57.076746 \nL 116.736814 56.395116 \nL 117.405746 56.395116 \nL 117.405746 55.713486 \nL 117.740211 55.713486 \nL 117.740211 55.031855 \nL 120.08147 55.031855 \nL 120.08147 54.350225 \nL 121.419332 54.350225 \nL 121.419332 53.668595 \nL 122.088263 53.668595 \nL 122.088263 52.986965 \nL 124.429522 52.986965 \nL 124.429522 52.305335 \nL 125.767384 52.305335 \nL 125.767384 51.623705 \nL 126.436315 51.623705 \nL 126.436315 50.942075 \nL 128.443108 50.942075 \nL 128.443108 50.260445 \nL 129.446505 50.260445 \nL 129.446505 49.578815 \nL 131.787763 49.578815 \nL 131.787763 48.897185 \nL 133.794557 48.897185 \nL 133.794557 48.215554 \nL 134.129022 48.215554 \nL 134.129022 47.533924 \nL 137.139212 47.533924 \nL 137.139212 46.852294 \nL 138.477074 46.852294 \nL 138.477074 46.170664 \nL 143.159592 46.170664 \nL 143.159592 45.489034 \nL 149.848902 45.489034 \nL 149.848902 44.807404 \nL 151.855696 44.807404 \nL 151.855696 44.125774 \nL 152.524627 44.125774 \nL 152.524627 43.444144 \nL 154.865885 43.444144 \nL 154.865885 42.762514 \nL 156.872679 42.762514 \nL 156.872679 42.080884 \nL 158.210541 42.080884 \nL 158.210541 41.399254 \nL 160.217334 41.399254 \nL 160.217334 40.717623 \nL 171.589162 40.717623 \nL 171.589162 40.035993 \nL 171.923628 40.035993 \nL 171.923628 39.354363 \nL 174.264886 39.354363 \nL 174.264886 38.672733 \nL 174.933817 38.672733 \nL 174.933817 37.991103 \nL 181.288663 37.991103 \nL 181.288663 37.309473 \nL 181.623128 37.309473 \nL 181.623128 36.627843 \nL 183.964387 36.627843 \nL 183.964387 35.946213 \nL 184.298852 35.946213 \nL 184.298852 35.264583 \nL 194.667284 35.264583 \nL 194.667284 34.582953 \nL 206.039112 34.582953 \nL 206.039112 33.901322 \nL 206.708043 33.901322 \nL 206.708043 32.538062 \nL 212.059492 32.538062 \nL 212.059492 31.856432 \nL 219.417734 31.856432 \nL 219.417734 31.174802 \nL 223.765785 31.174802 \nL 223.765785 30.493172 \nL 256.208942 30.493172 \nL 256.208942 29.811542 \nL 283.300651 29.811542 \nL 283.300651 29.129912 \nL 293.000151 29.129912 \nL 293.000151 28.448282 \nL 297.013738 28.448282 \nL 297.013738 27.766652 \nL 315.409342 27.766652 \nL 315.409342 27.085022 \nL 320.426325 27.085022 \nL 320.426325 26.403391 \nL 326.78117 26.403391 \nL 326.78117 25.721761 \nL 356.883068 25.721761 \nL 356.883068 25.721761 \n\" style=\"fill:none;stroke:#ff7f0e;stroke-linecap:square;stroke-width:1.5;\"/>\n   </g>\n   <g id=\"patch_3\">\n    <path d=\"M 37.30125 233.278125 \nL 37.30125 15.838125 \n\" style=\"fill:none;stroke:#000000;stroke-linecap:square;stroke-linejoin:miter;stroke-width:0.8;\"/>\n   </g>\n   <g id=\"patch_4\">\n    <path d=\"M 372.10125 233.278125 \nL 372.10125 15.838125 \n\" style=\"fill:none;stroke:#000000;stroke-linecap:square;stroke-linejoin:miter;stroke-width:0.8;\"/>\n   </g>\n   <g id=\"patch_5\">\n    <path d=\"M 37.30125 233.278125 \nL 372.10125 233.278125 \n\" style=\"fill:none;stroke:#000000;stroke-linecap:square;stroke-linejoin:miter;stroke-width:0.8;\"/>\n   </g>\n   <g id=\"patch_6\">\n    <path d=\"M 37.30125 15.838125 \nL 372.10125 15.838125 \n\" style=\"fill:none;stroke:#000000;stroke-linecap:square;stroke-linejoin:miter;stroke-width:0.8;\"/>\n   </g>\n   <g id=\"text_15\">\n    <!-- ROC curve (on validation data) -->\n    <g transform=\"translate(111.969375 9.838125)scale(0.12 -0.12)\">\n     <defs>\n      <path d=\"M 39.40625 66.21875 \nQ 28.65625 66.21875 22.328125 58.203125 \nQ 16.015625 50.203125 16.015625 36.375 \nQ 16.015625 22.609375 22.328125 14.59375 \nQ 28.65625 6.59375 39.40625 6.59375 \nQ 50.140625 6.59375 56.421875 14.59375 \nQ 62.703125 22.609375 62.703125 36.375 \nQ 62.703125 50.203125 56.421875 58.203125 \nQ 50.140625 66.21875 39.40625 66.21875 \nz\nM 39.40625 74.21875 \nQ 54.734375 74.21875 63.90625 63.9375 \nQ 73.09375 53.65625 73.09375 36.375 \nQ 73.09375 19.140625 63.90625 8.859375 \nQ 54.734375 -1.421875 39.40625 -1.421875 \nQ 24.03125 -1.421875 14.8125 8.828125 \nQ 5.609375 19.09375 5.609375 36.375 \nQ 5.609375 53.65625 14.8125 63.9375 \nQ 24.03125 74.21875 39.40625 74.21875 \nz\n\" id=\"DejaVuSans-79\"/>\n      <path d=\"M 64.40625 67.28125 \nL 64.40625 56.890625 \nQ 59.421875 61.53125 53.78125 63.8125 \nQ 48.140625 66.109375 41.796875 66.109375 \nQ 29.296875 66.109375 22.65625 58.46875 \nQ 16.015625 50.828125 16.015625 36.375 \nQ 16.015625 21.96875 22.65625 14.328125 \nQ 29.296875 6.6875 41.796875 6.6875 \nQ 48.140625 6.6875 53.78125 8.984375 \nQ 59.421875 11.28125 64.40625 15.921875 \nL 64.40625 5.609375 \nQ 59.234375 2.09375 53.4375 0.328125 \nQ 47.65625 -1.421875 41.21875 -1.421875 \nQ 24.65625 -1.421875 15.125 8.703125 \nQ 5.609375 18.84375 5.609375 36.375 \nQ 5.609375 53.953125 15.125 64.078125 \nQ 24.65625 74.21875 41.21875 74.21875 \nQ 47.75 74.21875 53.53125 72.484375 \nQ 59.328125 70.75 64.40625 67.28125 \nz\n\" id=\"DejaVuSans-67\"/>\n      <path id=\"DejaVuSans-32\"/>\n      <path d=\"M 48.78125 52.59375 \nL 48.78125 44.1875 \nQ 44.96875 46.296875 41.140625 47.34375 \nQ 37.3125 48.390625 33.40625 48.390625 \nQ 24.65625 48.390625 19.8125 42.84375 \nQ 14.984375 37.3125 14.984375 27.296875 \nQ 14.984375 17.28125 19.8125 11.734375 \nQ 24.65625 6.203125 33.40625 6.203125 \nQ 37.3125 6.203125 41.140625 7.25 \nQ 44.96875 8.296875 48.78125 10.40625 \nL 48.78125 2.09375 \nQ 45.015625 0.34375 40.984375 -0.53125 \nQ 36.96875 -1.421875 32.421875 -1.421875 \nQ 20.0625 -1.421875 12.78125 6.34375 \nQ 5.515625 14.109375 5.515625 27.296875 \nQ 5.515625 40.671875 12.859375 48.328125 \nQ 20.21875 56 33.015625 56 \nQ 37.15625 56 41.109375 55.140625 \nQ 45.0625 54.296875 48.78125 52.59375 \nz\n\" id=\"DejaVuSans-99\"/>\n      <path d=\"M 8.5 21.578125 \nL 8.5 54.6875 \nL 17.484375 54.6875 \nL 17.484375 21.921875 \nQ 17.484375 14.15625 20.5 10.265625 \nQ 23.53125 6.390625 29.59375 6.390625 \nQ 36.859375 6.390625 41.078125 11.03125 \nQ 45.3125 15.671875 45.3125 23.6875 \nL 45.3125 54.6875 \nL 54.296875 54.6875 \nL 54.296875 0 \nL 45.3125 0 \nL 45.3125 8.40625 \nQ 42.046875 3.421875 37.71875 1 \nQ 33.40625 -1.421875 27.6875 -1.421875 \nQ 18.265625 -1.421875 13.375 4.4375 \nQ 8.5 10.296875 8.5 21.578125 \nz\nM 31.109375 56 \nz\n\" id=\"DejaVuSans-117\"/>\n      <path d=\"M 41.109375 46.296875 \nQ 39.59375 47.171875 37.8125 47.578125 \nQ 36.03125 48 33.890625 48 \nQ 26.265625 48 22.1875 43.046875 \nQ 18.109375 38.09375 18.109375 28.8125 \nL 18.109375 0 \nL 9.078125 0 \nL 9.078125 54.6875 \nL 18.109375 54.6875 \nL 18.109375 46.1875 \nQ 20.953125 51.171875 25.484375 53.578125 \nQ 30.03125 56 36.53125 56 \nQ 37.453125 56 38.578125 55.875 \nQ 39.703125 55.765625 41.0625 55.515625 \nz\n\" id=\"DejaVuSans-114\"/>\n      <path d=\"M 2.984375 54.6875 \nL 12.5 54.6875 \nL 29.59375 8.796875 \nL 46.6875 54.6875 \nL 56.203125 54.6875 \nL 35.6875 0 \nL 23.484375 0 \nz\n\" id=\"DejaVuSans-118\"/>\n      <path d=\"M 56.203125 29.59375 \nL 56.203125 25.203125 \nL 14.890625 25.203125 \nQ 15.484375 15.921875 20.484375 11.0625 \nQ 25.484375 6.203125 34.421875 6.203125 \nQ 39.59375 6.203125 44.453125 7.46875 \nQ 49.3125 8.734375 54.109375 11.28125 \nL 54.109375 2.78125 \nQ 49.265625 0.734375 44.1875 -0.34375 \nQ 39.109375 -1.421875 33.890625 -1.421875 \nQ 20.796875 -1.421875 13.15625 6.1875 \nQ 5.515625 13.8125 5.515625 26.8125 \nQ 5.515625 40.234375 12.765625 48.109375 \nQ 20.015625 56 32.328125 56 \nQ 43.359375 56 49.78125 48.890625 \nQ 56.203125 41.796875 56.203125 29.59375 \nz\nM 47.21875 32.234375 \nQ 47.125 39.59375 43.09375 43.984375 \nQ 39.0625 48.390625 32.421875 48.390625 \nQ 24.90625 48.390625 20.390625 44.140625 \nQ 15.875 39.890625 15.1875 32.171875 \nz\n\" id=\"DejaVuSans-101\"/>\n      <path d=\"M 31 75.875 \nQ 24.46875 64.65625 21.28125 53.65625 \nQ 18.109375 42.671875 18.109375 31.390625 \nQ 18.109375 20.125 21.3125 9.0625 \nQ 24.515625 -2 31 -13.1875 \nL 23.1875 -13.1875 \nQ 15.875 -1.703125 12.234375 9.375 \nQ 8.59375 20.453125 8.59375 31.390625 \nQ 8.59375 42.28125 12.203125 53.3125 \nQ 15.828125 64.359375 23.1875 75.875 \nz\n\" id=\"DejaVuSans-40\"/>\n      <path d=\"M 30.609375 48.390625 \nQ 23.390625 48.390625 19.1875 42.75 \nQ 14.984375 37.109375 14.984375 27.296875 \nQ 14.984375 17.484375 19.15625 11.84375 \nQ 23.34375 6.203125 30.609375 6.203125 \nQ 37.796875 6.203125 41.984375 11.859375 \nQ 46.1875 17.53125 46.1875 27.296875 \nQ 46.1875 37.015625 41.984375 42.703125 \nQ 37.796875 48.390625 30.609375 48.390625 \nz\nM 30.609375 56 \nQ 42.328125 56 49.015625 48.375 \nQ 55.71875 40.765625 55.71875 27.296875 \nQ 55.71875 13.875 49.015625 6.21875 \nQ 42.328125 -1.421875 30.609375 -1.421875 \nQ 18.84375 -1.421875 12.171875 6.21875 \nQ 5.515625 13.875 5.515625 27.296875 \nQ 5.515625 40.765625 12.171875 48.375 \nQ 18.84375 56 30.609375 56 \nz\n\" id=\"DejaVuSans-111\"/>\n      <path d=\"M 54.890625 33.015625 \nL 54.890625 0 \nL 45.90625 0 \nL 45.90625 32.71875 \nQ 45.90625 40.484375 42.875 44.328125 \nQ 39.84375 48.1875 33.796875 48.1875 \nQ 26.515625 48.1875 22.3125 43.546875 \nQ 18.109375 38.921875 18.109375 30.90625 \nL 18.109375 0 \nL 9.078125 0 \nL 9.078125 54.6875 \nL 18.109375 54.6875 \nL 18.109375 46.1875 \nQ 21.34375 51.125 25.703125 53.5625 \nQ 30.078125 56 35.796875 56 \nQ 45.21875 56 50.046875 50.171875 \nQ 54.890625 44.34375 54.890625 33.015625 \nz\n\" id=\"DejaVuSans-110\"/>\n      <path d=\"M 34.28125 27.484375 \nQ 23.390625 27.484375 19.1875 25 \nQ 14.984375 22.515625 14.984375 16.5 \nQ 14.984375 11.71875 18.140625 8.90625 \nQ 21.296875 6.109375 26.703125 6.109375 \nQ 34.1875 6.109375 38.703125 11.40625 \nQ 43.21875 16.703125 43.21875 25.484375 \nL 43.21875 27.484375 \nz\nM 52.203125 31.203125 \nL 52.203125 0 \nL 43.21875 0 \nL 43.21875 8.296875 \nQ 40.140625 3.328125 35.546875 0.953125 \nQ 30.953125 -1.421875 24.3125 -1.421875 \nQ 15.921875 -1.421875 10.953125 3.296875 \nQ 6 8.015625 6 15.921875 \nQ 6 25.140625 12.171875 29.828125 \nQ 18.359375 34.515625 30.609375 34.515625 \nL 43.21875 34.515625 \nL 43.21875 35.40625 \nQ 43.21875 41.609375 39.140625 45 \nQ 35.0625 48.390625 27.6875 48.390625 \nQ 23 48.390625 18.546875 47.265625 \nQ 14.109375 46.140625 10.015625 43.890625 \nL 10.015625 52.203125 \nQ 14.9375 54.109375 19.578125 55.046875 \nQ 24.21875 56 28.609375 56 \nQ 40.484375 56 46.34375 49.84375 \nQ 52.203125 43.703125 52.203125 31.203125 \nz\n\" id=\"DejaVuSans-97\"/>\n      <path d=\"M 9.421875 75.984375 \nL 18.40625 75.984375 \nL 18.40625 0 \nL 9.421875 0 \nz\n\" id=\"DejaVuSans-108\"/>\n      <path d=\"M 9.421875 54.6875 \nL 18.40625 54.6875 \nL 18.40625 0 \nL 9.421875 0 \nz\nM 9.421875 75.984375 \nL 18.40625 75.984375 \nL 18.40625 64.59375 \nL 9.421875 64.59375 \nz\n\" id=\"DejaVuSans-105\"/>\n      <path d=\"M 45.40625 46.390625 \nL 45.40625 75.984375 \nL 54.390625 75.984375 \nL 54.390625 0 \nL 45.40625 0 \nL 45.40625 8.203125 \nQ 42.578125 3.328125 38.25 0.953125 \nQ 33.9375 -1.421875 27.875 -1.421875 \nQ 17.96875 -1.421875 11.734375 6.484375 \nQ 5.515625 14.40625 5.515625 27.296875 \nQ 5.515625 40.1875 11.734375 48.09375 \nQ 17.96875 56 27.875 56 \nQ 33.9375 56 38.25 53.625 \nQ 42.578125 51.265625 45.40625 46.390625 \nz\nM 14.796875 27.296875 \nQ 14.796875 17.390625 18.875 11.75 \nQ 22.953125 6.109375 30.078125 6.109375 \nQ 37.203125 6.109375 41.296875 11.75 \nQ 45.40625 17.390625 45.40625 27.296875 \nQ 45.40625 37.203125 41.296875 42.84375 \nQ 37.203125 48.484375 30.078125 48.484375 \nQ 22.953125 48.484375 18.875 42.84375 \nQ 14.796875 37.203125 14.796875 27.296875 \nz\n\" id=\"DejaVuSans-100\"/>\n      <path d=\"M 18.3125 70.21875 \nL 18.3125 54.6875 \nL 36.8125 54.6875 \nL 36.8125 47.703125 \nL 18.3125 47.703125 \nL 18.3125 18.015625 \nQ 18.3125 11.328125 20.140625 9.421875 \nQ 21.96875 7.515625 27.59375 7.515625 \nL 36.8125 7.515625 \nL 36.8125 0 \nL 27.59375 0 \nQ 17.1875 0 13.234375 3.875 \nQ 9.28125 7.765625 9.28125 18.015625 \nL 9.28125 47.703125 \nL 2.6875 47.703125 \nL 2.6875 54.6875 \nL 9.28125 54.6875 \nL 9.28125 70.21875 \nz\n\" id=\"DejaVuSans-116\"/>\n      <path d=\"M 8.015625 75.875 \nL 15.828125 75.875 \nQ 23.140625 64.359375 26.78125 53.3125 \nQ 30.421875 42.28125 30.421875 31.390625 \nQ 30.421875 20.453125 26.78125 9.375 \nQ 23.140625 -1.703125 15.828125 -13.1875 \nL 8.015625 -13.1875 \nQ 14.5 -2 17.703125 9.0625 \nQ 20.90625 20.125 20.90625 31.390625 \nQ 20.90625 42.671875 17.703125 53.65625 \nQ 14.5 64.65625 8.015625 75.875 \nz\n\" id=\"DejaVuSans-41\"/>\n     </defs>\n     <use xlink:href=\"#DejaVuSans-82\"/>\n     <use x=\"69.482422\" xlink:href=\"#DejaVuSans-79\"/>\n     <use x=\"148.193359\" xlink:href=\"#DejaVuSans-67\"/>\n     <use x=\"218.017578\" xlink:href=\"#DejaVuSans-32\"/>\n     <use x=\"249.804688\" xlink:href=\"#DejaVuSans-99\"/>\n     <use x=\"304.785156\" xlink:href=\"#DejaVuSans-117\"/>\n     <use x=\"368.164062\" xlink:href=\"#DejaVuSans-114\"/>\n     <use x=\"409.277344\" xlink:href=\"#DejaVuSans-118\"/>\n     <use x=\"468.457031\" xlink:href=\"#DejaVuSans-101\"/>\n     <use x=\"529.980469\" xlink:href=\"#DejaVuSans-32\"/>\n     <use x=\"561.767578\" xlink:href=\"#DejaVuSans-40\"/>\n     <use x=\"600.78125\" xlink:href=\"#DejaVuSans-111\"/>\n     <use x=\"661.962891\" xlink:href=\"#DejaVuSans-110\"/>\n     <use x=\"725.341797\" xlink:href=\"#DejaVuSans-32\"/>\n     <use x=\"757.128906\" xlink:href=\"#DejaVuSans-118\"/>\n     <use x=\"816.308594\" xlink:href=\"#DejaVuSans-97\"/>\n     <use x=\"877.587891\" xlink:href=\"#DejaVuSans-108\"/>\n     <use x=\"905.371094\" xlink:href=\"#DejaVuSans-105\"/>\n     <use x=\"933.154297\" xlink:href=\"#DejaVuSans-100\"/>\n     <use x=\"996.630859\" xlink:href=\"#DejaVuSans-97\"/>\n     <use x=\"1057.910156\" xlink:href=\"#DejaVuSans-116\"/>\n     <use x=\"1097.119141\" xlink:href=\"#DejaVuSans-105\"/>\n     <use x=\"1124.902344\" xlink:href=\"#DejaVuSans-111\"/>\n     <use x=\"1186.083984\" xlink:href=\"#DejaVuSans-110\"/>\n     <use x=\"1249.462891\" xlink:href=\"#DejaVuSans-32\"/>\n     <use x=\"1281.25\" xlink:href=\"#DejaVuSans-100\"/>\n     <use x=\"1344.726562\" xlink:href=\"#DejaVuSans-97\"/>\n     <use x=\"1406.005859\" xlink:href=\"#DejaVuSans-116\"/>\n     <use x=\"1445.214844\" xlink:href=\"#DejaVuSans-97\"/>\n     <use x=\"1506.494141\" xlink:href=\"#DejaVuSans-41\"/>\n    </g>\n   </g>\n   <g id=\"legend_1\">\n    <g id=\"patch_7\">\n     <path d=\"M 253.246562 228.278125 \nL 365.10125 228.278125 \nQ 367.10125 228.278125 367.10125 226.278125 \nL 367.10125 197.921875 \nQ 367.10125 195.921875 365.10125 195.921875 \nL 253.246562 195.921875 \nQ 251.246562 195.921875 251.246562 197.921875 \nL 251.246562 226.278125 \nQ 251.246562 228.278125 253.246562 228.278125 \nz\n\" style=\"fill:#ffffff;opacity:0.8;stroke:#cccccc;stroke-linejoin:miter;\"/>\n    </g>\n    <g id=\"line2d_15\">\n     <path d=\"M 255.246562 204.020312 \nL 275.246562 204.020312 \n\" style=\"fill:none;stroke:#1f77b4;stroke-linecap:square;stroke-width:1.5;\"/>\n    </g>\n    <g id=\"line2d_16\"/>\n    <g id=\"text_16\">\n     <!-- CountVectorizer -->\n     <g transform=\"translate(283.246562 207.520312)scale(0.1 -0.1)\">\n      <defs>\n       <path d=\"M 28.609375 0 \nL 0.78125 72.90625 \nL 11.078125 72.90625 \nL 34.1875 11.53125 \nL 57.328125 72.90625 \nL 67.578125 72.90625 \nL 39.796875 0 \nz\n\" id=\"DejaVuSans-86\"/>\n       <path d=\"M 5.515625 54.6875 \nL 48.1875 54.6875 \nL 48.1875 46.484375 \nL 14.40625 7.171875 \nL 48.1875 7.171875 \nL 48.1875 0 \nL 4.296875 0 \nL 4.296875 8.203125 \nL 38.09375 47.515625 \nL 5.515625 47.515625 \nz\n\" id=\"DejaVuSans-122\"/>\n      </defs>\n      <use xlink:href=\"#DejaVuSans-67\"/>\n      <use x=\"69.824219\" xlink:href=\"#DejaVuSans-111\"/>\n      <use x=\"131.005859\" xlink:href=\"#DejaVuSans-117\"/>\n      <use x=\"194.384766\" xlink:href=\"#DejaVuSans-110\"/>\n      <use x=\"257.763672\" xlink:href=\"#DejaVuSans-116\"/>\n      <use x=\"296.972656\" xlink:href=\"#DejaVuSans-86\"/>\n      <use x=\"357.630859\" xlink:href=\"#DejaVuSans-101\"/>\n      <use x=\"419.154297\" xlink:href=\"#DejaVuSans-99\"/>\n      <use x=\"474.134766\" xlink:href=\"#DejaVuSans-116\"/>\n      <use x=\"513.34375\" xlink:href=\"#DejaVuSans-111\"/>\n      <use x=\"574.525391\" xlink:href=\"#DejaVuSans-114\"/>\n      <use x=\"615.638672\" xlink:href=\"#DejaVuSans-105\"/>\n      <use x=\"643.421875\" xlink:href=\"#DejaVuSans-122\"/>\n      <use x=\"695.912109\" xlink:href=\"#DejaVuSans-101\"/>\n      <use x=\"757.435547\" xlink:href=\"#DejaVuSans-114\"/>\n     </g>\n    </g>\n    <g id=\"line2d_17\">\n     <path d=\"M 255.246562 218.698438 \nL 275.246562 218.698438 \n\" style=\"fill:none;stroke:#ff7f0e;stroke-linecap:square;stroke-width:1.5;\"/>\n    </g>\n    <g id=\"line2d_18\"/>\n    <g id=\"text_17\">\n     <!-- LSTM -->\n     <g transform=\"translate(283.246562 222.198438)scale(0.1 -0.1)\">\n      <defs>\n       <path d=\"M 9.8125 72.90625 \nL 19.671875 72.90625 \nL 19.671875 8.296875 \nL 55.171875 8.296875 \nL 55.171875 0 \nL 9.8125 0 \nz\n\" id=\"DejaVuSans-76\"/>\n       <path d=\"M 53.515625 70.515625 \nL 53.515625 60.890625 \nQ 47.90625 63.578125 42.921875 64.890625 \nQ 37.9375 66.21875 33.296875 66.21875 \nQ 25.25 66.21875 20.875 63.09375 \nQ 16.5 59.96875 16.5 54.203125 \nQ 16.5 49.359375 19.40625 46.890625 \nQ 22.3125 44.4375 30.421875 42.921875 \nL 36.375 41.703125 \nQ 47.40625 39.59375 52.65625 34.296875 \nQ 57.90625 29 57.90625 20.125 \nQ 57.90625 9.515625 50.796875 4.046875 \nQ 43.703125 -1.421875 29.984375 -1.421875 \nQ 24.8125 -1.421875 18.96875 -0.25 \nQ 13.140625 0.921875 6.890625 3.21875 \nL 6.890625 13.375 \nQ 12.890625 10.015625 18.65625 8.296875 \nQ 24.421875 6.59375 29.984375 6.59375 \nQ 38.421875 6.59375 43.015625 9.90625 \nQ 47.609375 13.234375 47.609375 19.390625 \nQ 47.609375 24.75 44.3125 27.78125 \nQ 41.015625 30.8125 33.5 32.328125 \nL 27.484375 33.5 \nQ 16.453125 35.6875 11.515625 40.375 \nQ 6.59375 45.0625 6.59375 53.421875 \nQ 6.59375 63.09375 13.40625 68.65625 \nQ 20.21875 74.21875 32.171875 74.21875 \nQ 37.3125 74.21875 42.625 73.28125 \nQ 47.953125 72.359375 53.515625 70.515625 \nz\n\" id=\"DejaVuSans-83\"/>\n       <path d=\"M 9.8125 72.90625 \nL 24.515625 72.90625 \nL 43.109375 23.296875 \nL 61.8125 72.90625 \nL 76.515625 72.90625 \nL 76.515625 0 \nL 66.890625 0 \nL 66.890625 64.015625 \nL 48.09375 14.015625 \nL 38.1875 14.015625 \nL 19.390625 64.015625 \nL 19.390625 0 \nL 9.8125 0 \nz\n\" id=\"DejaVuSans-77\"/>\n      </defs>\n      <use xlink:href=\"#DejaVuSans-76\"/>\n      <use x=\"55.712891\" xlink:href=\"#DejaVuSans-83\"/>\n      <use x=\"119.189453\" xlink:href=\"#DejaVuSans-84\"/>\n      <use x=\"180.273438\" xlink:href=\"#DejaVuSans-77\"/>\n     </g>\n    </g>\n   </g>\n  </g>\n </g>\n <defs>\n  <clipPath id=\"pb3219ac44f\">\n   <rect height=\"217.44\" width=\"334.8\" x=\"37.30125\" y=\"15.838125\"/>\n  </clipPath>\n </defs>\n</svg>\n",
      "image/png": "[encoded data removed]"
     },
     "metadata": {
      "needs_background": "light"
     }
    }
   ],
   "source": [
    "from plox import Plox\n",
    "with Plox() as px:\n",
    "    px.a.plot(fpr_cv, tpr_cv, '-', label=\"CountVectorizer\")\n",
    "    px.a.plot(fpr_lstm, tpr_lstm, '-', label=\"LSTM\")\n",
    "    px.a.set_xlabel(\"FPR\")\n",
    "    px.a.set_ylabel(\"TPR\")\n",
    "    px.a.set_title(\"ROC curve (on validation data)\")\n",
    "    px.a.legend()\n",
    "    px.show()"
   ]
  },
  {
   "cell_type": "code",
   "execution_count": null,
   "metadata": {},
   "outputs": [],
   "source": []
  }
 ],
 "metadata": {
  "kernelspec": {
   "display_name": "Python 3.8.5 64-bit ('venv': venv)",
   "language": "python",
   "name": "python38564bitvenvvenvc417eeb3119745d484776510ae5e6a30"
  },
  "language_info": {
   "codemirror_mode": {
    "name": "ipython",
    "version": 3
   },
   "file_extension": ".py",
   "mimetype": "text/x-python",
   "name": "python",
   "nbconvert_exporter": "python",
   "pygments_lexer": "ipython3",
   "version": "3.8.5-final"
  }
 },
 "nbformat": 4,
 "nbformat_minor": 5
}